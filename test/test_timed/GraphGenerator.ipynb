Brut: 0, 0
Dijkstra: 0, 0
A*: 0, 0